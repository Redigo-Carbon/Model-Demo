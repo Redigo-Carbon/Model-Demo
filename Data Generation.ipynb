{
 "cells": [
  {
   "cell_type": "code",
   "execution_count": 278,
   "metadata": {
    "collapsed": true
   },
   "outputs": [],
   "source": [
    "import pandas as pd\n",
    "import numpy as np\n",
    "\n",
    "data = pd.DataFrame([\n",
    "    # [100, 1, 0, 3700],\n",
    "    # [65, 2, 45, 50000],\n",
    "    # [5000, 200, 100, 500_000],\n",
    "    # [100, 100, 0, 5000],\n",
    "    [100,\t1,\t0,\t3700],\n",
    "    [65,\t2,\t45,\t10000],\n",
    "    [5000,\t200,\t100,\t500000],\n",
    "    [100,\t100,\t0,\t20000],\n",
    "    # [300, 200, 0, 50000],\n",
    "    # [55, 2, 25, 50000],\n",
    "    # [4000, 200, 40, 500_000],\n",
    "    # [10, 100, 0, 5000],\n",
    "], columns=['num_employees', 'buildings', 'vehicles', 'co2'])"
   ]
  },
  {
   "cell_type": "code",
   "execution_count": 296,
   "outputs": [],
   "source": [
    "import random\n",
    "random.seed(7)\n",
    "np.random.seed(7)\n",
    "\n",
    "\n",
    "df = pd.DataFrame()\n",
    "\n",
    "n = 1000\n",
    "input = np.random.exponential(scale=4500, size=n).astype(int)\n",
    "num_employees = ((input**1.3/40 * (np.random.random(size=n)+0.5)) + 10000*np.random.random(size=n)).astype(int)\n",
    "buildings = ((input**2/1e6 * (np.random.random(size=n)+0.5)) + 10*np.random.random(size=n)).astype(int)\n",
    "vehicles = (input**1.2/1e2 * (np.random.random(size=n)+0.3) + 50*np.random.random(size=n)).astype(int)\n",
    "\n",
    "copy = buildings[:100]\n",
    "random.shuffle(copy)\n",
    "buildings[:100] = copy\n",
    "\n",
    "copy = vehicles[:100]\n",
    "random.shuffle(copy)\n",
    "vehicles[:100] = copy\n",
    "\n",
    "\n",
    "df['num_employees'] = num_employees\n",
    "df['buildings'] = buildings\n",
    "df['vehicles'] = vehicles"
   ],
   "metadata": {
    "collapsed": false
   }
  },
  {
   "cell_type": "code",
   "execution_count": 301,
   "outputs": [
    {
     "data": {
      "text/plain": "<AxesSubplot: xlabel='num_employees', ylabel='co2'>"
     },
     "execution_count": 301,
     "metadata": {},
     "output_type": "execute_result"
    },
    {
     "data": {
      "text/plain": "<Figure size 640x480 with 1 Axes>",
      "image/png": "[encoded data removed]"
     },
     "metadata": {},
     "output_type": "display_data"
    }
   ],
   "source": [
    "df['co2'] = (np.random.random(size=n)+1)*(\n",
    "        (np.random.random(size=n)/2+1)*num_employees/2 +\n",
    "        (np.random.random(size=n)/8+1)*buildings*34 +\n",
    "        (np.random.random(size=n)/8+1)*vehicles*4\n",
    ") + 300 * np.random.random(size=n)\n",
    "# df.co2.plot.hist(bins=100)\n",
    "df.plot.scatter(x='num_employees', y='co2')"
   ],
   "metadata": {
    "collapsed": false
   }
  },
  {
   "cell_type": "code",
   "execution_count": 301,
   "outputs": [],
   "source": [],
   "metadata": {
    "collapsed": false
   }
  },
  {
   "cell_type": "code",
   "execution_count": 302,
   "outputs": [],
   "source": [
    "df.to_csv('data/modeled_data.csv')"
   ],
   "metadata": {
    "collapsed": false
   }
  },
  {
   "cell_type": "code",
   "execution_count": 269,
   "outputs": [
    {
     "data": {
      "text/plain": "array([11.05422115, 12.8234193 ,  6.52474359])"
     },
     "execution_count": 269,
     "metadata": {},
     "output_type": "execute_result"
    }
   ],
   "source": [
    "y = df.pop('co2')\n",
    "X = df.copy()\n",
    "from sklearn.linear_model import LinearRegression\n",
    "\n",
    "model = LinearRegression()\n",
    "model.fit(X, y)\n",
    "model.coef_"
   ],
   "metadata": {
    "collapsed": false
   }
  },
  {
   "cell_type": "code",
   "execution_count": 270,
   "outputs": [
    {
     "data": {
      "text/plain": "0.9267368150887045"
     },
     "execution_count": 270,
     "metadata": {},
     "output_type": "execute_result"
    }
   ],
   "source": [
    "model.score(X, y)"
   ],
   "metadata": {
    "collapsed": false
   }
  },
  {
   "cell_type": "code",
   "execution_count": 272,
   "outputs": [
    {
     "data": {
      "text/plain": "     num_employees  buildings  wehicles\n0       357.196093          5        30\n1      6811.914036          0       150\n2      2596.418389         20        57\n3      5784.383371         53        20\n4     17173.062953          3        77\n..             ...        ...       ...\n995      58.863783          0        38\n996    9779.664476         63        83\n997    4086.140522         24        28\n998    4484.135240         11        77\n999      74.634912          0        11\n\n[1000 rows x 3 columns]",
      "text/html": "<div>\n<style scoped>\n    .dataframe tbody tr th:only-of-type {\n        vertical-align: middle;\n    }\n\n    .dataframe tbody tr th {\n        vertical-align: top;\n    }\n\n    .dataframe thead th {\n        text-align: right;\n    }\n</style>\n<table border=\"1\" class=\"dataframe\">\n  <thead>\n    <tr style=\"text-align: right;\">\n      <th></th>\n      <th>num_employees</th>\n      <th>buildings</th>\n      <th>wehicles</th>\n    </tr>\n  </thead>\n  <tbody>\n    <tr>\n      <th>0</th>\n      <td>357.196093</td>\n      <td>5</td>\n      <td>30</td>\n    </tr>\n    <tr>\n      <th>1</th>\n      <td>6811.914036</td>\n      <td>0</td>\n      <td>150</td>\n    </tr>\n    <tr>\n      <th>2</th>\n      <td>2596.418389</td>\n      <td>20</td>\n      <td>57</td>\n    </tr>\n    <tr>\n      <th>3</th>\n      <td>5784.383371</td>\n      <td>53</td>\n      <td>20</td>\n    </tr>\n    <tr>\n      <th>4</th>\n      <td>17173.062953</td>\n      <td>3</td>\n      <td>77</td>\n    </tr>\n    <tr>\n      <th>...</th>\n      <td>...</td>\n      <td>...</td>\n      <td>...</td>\n    </tr>\n    <tr>\n      <th>995</th>\n      <td>58.863783</td>\n      <td>0</td>\n      <td>38</td>\n    </tr>\n    <tr>\n      <th>996</th>\n      <td>9779.664476</td>\n      <td>63</td>\n      <td>83</td>\n    </tr>\n    <tr>\n      <th>997</th>\n      <td>4086.140522</td>\n      <td>24</td>\n      <td>28</td>\n    </tr>\n    <tr>\n      <th>998</th>\n      <td>4484.135240</td>\n      <td>11</td>\n      <td>77</td>\n    </tr>\n    <tr>\n      <th>999</th>\n      <td>74.634912</td>\n      <td>0</td>\n      <td>11</td>\n    </tr>\n  </tbody>\n</table>\n<p>1000 rows × 3 columns</p>\n</div>"
     },
     "execution_count": 272,
     "metadata": {},
     "output_type": "execute_result"
    }
   ],
   "source": [
    "df"
   ],
   "metadata": {
    "collapsed": false
   }
  },
  {
   "cell_type": "code",
   "execution_count": null,
   "outputs": [],
   "source": [],
   "metadata": {
    "collapsed": false
   }
  }
 ],
 "metadata": {
  "kernelspec": {
   "display_name": "Python 3",
   "language": "python",
   "name": "python3"
  },
  "language_info": {
   "codemirror_mode": {
    "name": "ipython",
    "version": 2
   },
   "file_extension": ".py",
   "mimetype": "text/x-python",
   "name": "python",
   "nbconvert_exporter": "python",
   "pygments_lexer": "ipython2",
   "version": "2.7.6"
  }
 },
 "nbformat": 4,
 "nbformat_minor": 0
}
